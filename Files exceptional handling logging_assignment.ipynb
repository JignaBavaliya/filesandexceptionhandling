{
 "cells": [
  {
   "cell_type": "markdown",
   "id": "127f67cd",
   "metadata": {},
   "source": [
    "# Files, Exception Handling, Logging & Memory Management — Answers"
   ]
  },
  {
   "cell_type": "markdown",
   "id": "2a4e53b1",
   "metadata": {},
   "source": [
    "### Q1. What is the difference between interpreted and compiled languages\n",
    "\n",
    "**Answer:**\n",
    "\n",
    "Interpreted languages are executed line-by-line by an interpreter at runtime (e.g., Python, JavaScript). Compiled languages are transformed into machine code ahead of execution by a compiler (e.g., C, C++). Compiled programs often run faster and have separate build steps; interpreted languages provide faster edit-run cycles, portability, and dynamic features. Some languages use hybrid approaches (e.g., Java bytecode + JVM).\n",
    "\n",
    "---\n"
   ]
  },
  {
   "cell_type": "markdown",
   "id": "607bddda",
   "metadata": {},
   "source": [
    "### Q2. What is exception handling in Python\n",
    "\n",
    "**Answer:**\n",
    "\n",
    "Exception handling in Python is a mechanism to catch and handle runtime errors (exceptions) so the program can continue or fail gracefully. It is implemented with try/except blocks, optionally using else and finally clauses, and supports raising exceptions and creating custom exception types.\n",
    "\n",
    "---\n"
   ]
  },
  {
   "cell_type": "markdown",
   "id": "75659017",
   "metadata": {},
   "source": [
    "### Q3. What is the purpose of the finally block in exception handling\n",
    "\n",
    "**Answer:**\n",
    "\n",
    "The finally block contains code that is always executed after the try and except blocks, regardless of whether an exception occurred or was handled. It is commonly used for cleanup actions like closing files or releasing resources.\n",
    "\n",
    "---\n"
   ]
  },
  {
   "cell_type": "markdown",
   "id": "687a2fab",
   "metadata": {},
   "source": [
    "### Q4. What is logging in Python\n",
    "\n",
    "**Answer:**\n",
    "\n",
    "Logging in Python is the practice of recording events, errors, warnings, and informational messages from a program to help debugging, auditing, and monitoring. The built-in logging module provides flexible configuration for message formatting, levels, destinations (console, files, handlers), and rotation.\n",
    "\n",
    "---\n"
   ]
  },
  {
   "cell_type": "markdown",
   "id": "e6958aed",
   "metadata": {},
   "source": [
    "### Q5. What is the significance of the __del__ method in Python\n",
    "\n",
    "**Answer:**\n",
    "\n",
    "The __del__ method is a destructor-like special method called when an object is about to be destroyed by the garbage collector. It is rarely needed; reliance on __del__ can complicate object lifecycle and create reference cycle issues. Use context managers or explicit cleanup where possible.\n",
    "\n",
    "---\n"
   ]
  },
  {
   "cell_type": "markdown",
   "id": "c375925a",
   "metadata": {},
   "source": [
    "### Q6. What is the difference between import and from ... import in Python\n",
    "\n",
    "**Answer:**\n",
    "\n",
    "import module_name loads the module and creates a namespace (you access members with module_name.member). from module_name import name(s) imports specific attributes or functions directly into the current namespace, allowing direct use (name) but may cause name clashes.\n",
    "\n",
    "---\n"
   ]
  },
  {
   "cell_type": "markdown",
   "id": "2328468a",
   "metadata": {},
   "source": [
    "### Q7. How can you handle multiple exceptions in Python\n",
    "\n",
    "**Answer:**\n",
    "\n",
    "You can handle multiple exceptions by listing multiple except blocks for different exception types, or by catching a tuple of exceptions in a single except: `except (TypeError, ValueError):`. Ordering matters: more specific exceptions should come before broader ones.\n",
    "\n",
    "---\n"
   ]
  },
  {
   "cell_type": "markdown",
   "id": "20dd5e37",
   "metadata": {},
   "source": [
    "### Q8. What is the purpose of the with statement when handling files in Python\n",
    "\n",
    "**Answer:**\n",
    "\n",
    "The with statement (context manager) ensures that setup and teardown code run automatically: it calls the __enter__ method at start and __exit__ at end, guaranteeing resources (like files) are properly closed even if exceptions occur (e.g., `with open(...) as f:`).\n",
    "\n",
    "---\n"
   ]
  },
  {
   "cell_type": "markdown",
   "id": "f76a226a",
   "metadata": {},
   "source": [
    "### Q9. What is the difference between multithreading and multiprocessing\n",
    "\n",
    "**Answer:**\n",
    "\n",
    "Multithreading uses multiple threads within the same process and memory space; it's lightweight but in CPython is limited by the GIL for CPU-bound tasks. Multiprocessing runs multiple processes with separate memory spaces, avoids the GIL, and is better for CPU-bound parallelism but has higher IPC overhead.\n",
    "\n",
    "---\n"
   ]
  },
  {
   "cell_type": "markdown",
   "id": "ddf4cbf6",
   "metadata": {},
   "source": [
    "### Q10. What are the advantages of using logging in a program\n",
    "\n",
    "**Answer:**\n",
    "\n",
    "Advantages of logging: persistent record of runtime behavior, easier debugging, ability to set levels (info/warn/error), configurable output destinations, runtime control without changing code, and useful for monitoring/alerts in production.\n",
    "\n",
    "---\n"
   ]
  },
  {
   "cell_type": "markdown",
   "id": "415fa78c",
   "metadata": {},
   "source": [
    "### Q11. What is memory management in Python\n",
    "\n",
    "**Answer:**\n",
    "\n",
    "Memory management in Python is automatic handling of allocation and deallocation of memory for objects. It includes reference counting, a cyclic garbage collector for reference cycles, and memory pools managed by the interpreter (e.g., pymalloc).\n",
    "\n",
    "---\n"
   ]
  },
  {
   "cell_type": "markdown",
   "id": "724ace2d",
   "metadata": {},
   "source": [
    "### Q12. What are the basic steps involved in exception handling in Python\n",
    "\n",
    "**Answer:**\n",
    "\n",
    "Basic steps: (1) Identify code that may fail inside a try block; (2) Provide one or more except blocks to catch and handle exceptions; (3) Optionally use else for code that runs when no exception occurs; (4) Use finally for cleanup that must always run.\n",
    "\n",
    "---\n"
   ]
  },
  {
   "cell_type": "markdown",
   "id": "8a2758eb",
   "metadata": {},
   "source": [
    "### Q13. Why is memory management important in Python\n",
    "\n",
    "**Answer:**\n",
    "\n",
    "Memory management prevents leaks, reduces crashes, and improves performance by reclaiming unused memory, optimizing allocations, and enabling programs to run reliably with limited resources.\n",
    "\n",
    "---\n"
   ]
  },
  {
   "cell_type": "markdown",
   "id": "422ce30e",
   "metadata": {},
   "source": [
    "### Q14. What is the role of try and except in exception handling\n",
    "\n",
    "**Answer:**\n",
    "\n",
    "try encloses code that may raise exceptions; except catches and handles specific exception types or a general exception. Together they prevent unhandled exceptions from crashing the program and allow graceful recovery.\n",
    "\n",
    "---\n"
   ]
  },
  {
   "cell_type": "markdown",
   "id": "ba9fccc9",
   "metadata": {},
   "source": [
    "### Q15. How does Python's garbage collection system work\n",
    "\n",
    "**Answer:**\n",
    "\n",
    "Python uses reference counting: each object tracks how many references point to it; when count drops to zero, it is deallocated. Additionally, a cyclic garbage collector detects groups of objects referencing each other but not reachable from program roots and frees them. The gc module provides control/inspection.\n",
    "\n",
    "---\n"
   ]
  },
  {
   "cell_type": "markdown",
   "id": "3446a1e4",
   "metadata": {},
   "source": [
    "### Q16. What is the purpose of the else block in exception handling\n",
    "\n",
    "**Answer:**\n",
    "\n",
    "An else block after try/except runs when the try block completes without raising exceptions. It's useful for code that should run only when no error occurred and keeps the try block focused on the risky operations.\n",
    "\n",
    "---\n"
   ]
  },
  {
   "cell_type": "markdown",
   "id": "cebe2ab4",
   "metadata": {},
   "source": [
    "### Q17. What are the common logging levels in Python\n",
    "\n",
    "**Answer:**\n",
    "\n",
    "Common logging levels: DEBUG, INFO, WARNING, ERROR, CRITICAL. They allow filtering and different handling policies for messages of varying importance.\n",
    "\n",
    "---\n"
   ]
  },
  {
   "cell_type": "markdown",
   "id": "219e0b18",
   "metadata": {},
   "source": [
    "### Q18. What is the difference between os.fork() and multiprocessing in Python\n",
    "\n",
    "**Answer:**\n",
    "\n",
    "os.fork() creates a child process as a copy of the current process (Unix-only) with shared file descriptors — low-level. The multiprocessing module offers a cross-platform API to spawn processes, manage pools, and handle inter-process communication (Queues, Pipes) with safer high-level abstractions.\n",
    "\n",
    "---\n"
   ]
  },
  {
   "cell_type": "markdown",
   "id": "403ecadc",
   "metadata": {},
   "source": [
    "### Q19. What is the importance of closing a file in Python\n",
    "\n",
    "**Answer:**\n",
    "\n",
    "Closing a file releases system resources (file descriptor), ensures buffered data is flushed to disk, and avoids resource leaks which can exhaust file descriptors and cause data loss. Use context managers to automate closing.\n",
    "\n",
    "---\n"
   ]
  },
  {
   "cell_type": "markdown",
   "id": "319b6862",
   "metadata": {},
   "source": [
    "### Q20. What is the difference between file.read() and file.readline() in Python\n",
    "\n",
    "**Answer:**\n",
    "\n",
    "file.read() reads the entire file (or a specified number of bytes) and returns it as a single string. file.readline() reads only up to the next newline and returns a single line. For memory efficiency on large files, iterate line-by-line or use read(size).\n",
    "\n",
    "---\n"
   ]
  },
  {
   "cell_type": "markdown",
   "id": "565a4b56",
   "metadata": {},
   "source": [
    "### Q21. What is the logging module in Python used for\n",
    "\n",
    "**Answer:**\n",
    "\n",
    "The logging module provides flexible tools to create loggers, handlers, formatters, and manage log levels and destinations (console, file, rotating files, etc.). It standardizes how programs record operational and error messages.\n",
    "\n",
    "---\n"
   ]
  },
  {
   "cell_type": "markdown",
   "id": "f5bd111b",
   "metadata": {},
   "source": [
    "### Q22. What is the os module in Python used for in file handling\n",
    "\n",
    "**Answer:**\n",
    "\n",
    "The os module provides functions for interacting with the operating system: file/directory operations, path manipulations, checking file existence, changing permissions, creating directories, and low-level file descriptor operations helpful in advanced file handling.\n",
    "\n",
    "---\n"
   ]
  },
  {
   "cell_type": "markdown",
   "id": "9d1a26c8",
   "metadata": {},
   "source": [
    "### Q23. What are the challenges associated with memory management in Python\n",
    "\n",
    "**Answer:**\n",
    "\n",
    "Challenges: memory leaks from lingering references or caches, fragmentation, managing large datasets in memory, overhead of garbage collection pauses, and ensuring deterministic cleanup for external resources. Debugging memory issues requires profiling and careful design.\n",
    "\n",
    "---\n"
   ]
  },
  {
   "cell_type": "markdown",
   "id": "5a2c976b",
   "metadata": {},
   "source": [
    "### Q24. How do you raise an exception manually in Python\n",
    "\n",
    "**Answer:**\n",
    "\n",
    "Use the raise statement, e.g., `raise ValueError('bad value')`. You can re-raise the current exception with `raise` inside an except block, or raise custom exceptions by subclassing Exception.\n",
    "\n",
    "---\n"
   ]
  },
  {
   "cell_type": "markdown",
   "id": "44f210c4",
   "metadata": {},
   "source": [
    "### Q25. Why is it important to use multithreading in certain applications?\n",
    "\n",
    "**Answer:**\n",
    "\n",
    "Multithreading is important for I/O-bound tasks (networking, disk I/O) where threads can wait without blocking the whole process. It enables concurrency with shared memory, low-latency context switches, and simpler communication compared to separate processes.\n",
    "\n",
    "---\n"
   ]
  },
  {
   "cell_type": "markdown",
   "id": "8baca173",
   "metadata": {},
   "source": [
    "### Practical \n"
   ]
  },
  {
   "cell_type": "markdown",
   "id": "3ea362e9-f7fe-4fc8-b083-ab9166ae5de8",
   "metadata": {},
   "source": [
    "### Q1. How can you open a file for writing in Python and write a string to it\n"
   ]
  },
  {
   "cell_type": "code",
   "execution_count": 35,
   "id": "32ffdf2a",
   "metadata": {},
   "outputs": [
    {
     "name": "stdout",
     "output_type": "stream",
     "text": [
      "Wrote to output.txt\n"
     ]
    }
   ],
   "source": [
    "with open('output.txt', 'w') as f:\n",
    "    f.write('Hello, this is a sample string.\\nLine2')\n",
    "print('Wrote to output.txt')"
   ]
  },
  {
   "cell_type": "markdown",
   "id": "7cd84466",
   "metadata": {},
   "source": [
    "### Q2. Write a Python program to read the contents of a file and print each line\n",
    "\n"
   ]
  },
  {
   "cell_type": "code",
   "execution_count": 37,
   "id": "a8fc8758",
   "metadata": {},
   "outputs": [
    {
     "name": "stdout",
     "output_type": "stream",
     "text": [
      "Hello, this is a sample string.\n",
      "Line2\n"
     ]
    }
   ],
   "source": [
    "with open('output.txt', 'r') as f:\n",
    "    for line in f:\n",
    "        print(line.rstrip())"
   ]
  },
  {
   "cell_type": "markdown",
   "id": "571ac82d",
   "metadata": {},
   "source": [
    "### Q3. How would you handle a case where the file doesn't exist while trying to open it for reading\n",
    "\n"
   ]
  },
  {
   "cell_type": "code",
   "execution_count": 39,
   "id": "38bbef78",
   "metadata": {},
   "outputs": [
    {
     "name": "stdout",
     "output_type": "stream",
     "text": [
      "File not found: nonexistent.txt\n"
     ]
    }
   ],
   "source": [
    "fname = 'nonexistent.txt'\n",
    "try:\n",
    "    with open(fname, 'r') as f:\n",
    "        print(f.read())\n",
    "except FileNotFoundError:\n",
    "    print(f'File not found: {fname}')"
   ]
  },
  {
   "cell_type": "markdown",
   "id": "495fc98d",
   "metadata": {},
   "source": [
    "### Q4. Write a Python script that reads from one file and writes its content to another file\n",
    "\n"
   ]
  },
  {
   "cell_type": "code",
   "execution_count": 41,
   "id": "2df8712b",
   "metadata": {},
   "outputs": [
    {
     "name": "stdout",
     "output_type": "stream",
     "text": [
      "Copy complete\n"
     ]
    }
   ],
   "source": [
    "src = 'titu.txt'\n",
    "dst = 'file.txt'\n",
    "with open(src, 'r') as a, open(dst, 'w') as b:\n",
    "    for line in a:\n",
    "        b.write(line)\n",
    "print('Copy complete')"
   ]
  },
  {
   "cell_type": "markdown",
   "id": "76652ac0",
   "metadata": {},
   "source": [
    "### Q5. How would you catch and handle division by zero error in Python\n",
    "\n"
   ]
  },
  {
   "cell_type": "code",
   "execution_count": 43,
   "id": "b9100acd",
   "metadata": {},
   "outputs": [
    {
     "name": "stdout",
     "output_type": "stream",
     "text": [
      "Error: division by zero\n"
     ]
    }
   ],
   "source": [
    "try:\n",
    "    x = 10\n",
    "    y = 0\n",
    "    z = x / y\n",
    "except ZeroDivisionError as e:\n",
    "    print('Error:',e)"
   ]
  },
  {
   "cell_type": "markdown",
   "id": "1350d231",
   "metadata": {},
   "source": [
    "### Q6. Write a Python program that logs an error message to a log file when a division by zero exception occurs\n",
    "\n"
   ]
  },
  {
   "cell_type": "code",
   "execution_count": 45,
   "id": "55d05520",
   "metadata": {},
   "outputs": [
    {
     "name": "stdout",
     "output_type": "stream",
     "text": [
      "Logged division by zero to errors.log\n"
     ]
    }
   ],
   "source": [
    "import logging\n",
    "logging.basicConfig(filename='errors.log', level=logging.ERROR, format='%(asctime)s %(levelname)s:%(message)s')\n",
    "try:\n",
    "    a = 5\n",
    "    b = 0\n",
    "    c = a / b\n",
    "except ZeroDivisionError as e:\n",
    "    logging.error('Division by zero occurred: %s', e)\n",
    "    print('Logged division by zero to errors.log')"
   ]
  },
  {
   "cell_type": "markdown",
   "id": "2fb4e52a",
   "metadata": {},
   "source": [
    "### Q7. How do you log information at different levels (INFO, ERROR, WARNING) in Python using the logging module\n",
    "\n"
   ]
  },
  {
   "cell_type": "code",
   "execution_count": 25,
   "id": "fcfa9bef",
   "metadata": {},
   "outputs": [],
   "source": [
    "import logging\n",
    "\n",
    "logging.basicConfig(\n",
    "    filename='app.log',       \n",
    "    level=logging.DEBUG,      \n",
    "    format='%(asctime)s - %(levelname)s - %(message)s'\n",
    ")\n",
    "\n",
    "logging.info(\"This is an INFO message\")\n",
    "logging.warning(\"This is a WARNING message\")\n",
    "logging.error(\"This is an ERROR message\")\n"
   ]
  },
  {
   "cell_type": "markdown",
   "id": "164d588e",
   "metadata": {},
   "source": [
    "### Q8. Write a program to handle a file opening error using exception handling\n",
    "\n"
   ]
  },
  {
   "cell_type": "code",
   "execution_count": 28,
   "id": "4ba88b14",
   "metadata": {},
   "outputs": [
    {
     "name": "stdout",
     "output_type": "stream",
     "text": [
      "Error opening file: [Errno 2] No such file or directory: 'maybe_missing.txt'\n"
     ]
    }
   ],
   "source": [
    "try:\n",
    "    f = open('maybe_missing.txt', 'r')\n",
    "except OSError as e:\n",
    "    print('Error opening file:', e)\n",
    "else:\n",
    "    with f:\n",
    "        print(f.read())"
   ]
  },
  {
   "cell_type": "markdown",
   "id": "4a2fdb91",
   "metadata": {},
   "source": [
    "### Q9. How can you read a file line by line and store its content in a list in Python\n",
    "\n"
   ]
  },
  {
   "cell_type": "code",
   "execution_count": 97,
   "id": "60a73a3c",
   "metadata": {},
   "outputs": [
    {
     "name": "stdout",
     "output_type": "stream",
     "text": [
      "['Hello, this is a sample string.', 'Line2Appended line.']\n"
     ]
    }
   ],
   "source": [
    "with open('output.txt', 'r') as f:\n",
    "    lines = [line.rstrip('\\n') for line in f]\n",
    "print(lines)"
   ]
  },
  {
   "cell_type": "markdown",
   "id": "dafc715c",
   "metadata": {},
   "source": [
    "### Q10. How can you append data to an existing file in Python\n",
    "\n"
   ]
  },
  {
   "cell_type": "code",
   "execution_count": 48,
   "id": "4d22ef03",
   "metadata": {},
   "outputs": [
    {
     "name": "stdout",
     "output_type": "stream",
     "text": [
      "Appended\n"
     ]
    }
   ],
   "source": [
    "with open('output.txt', 'a') as f:\n",
    "    f.write('Appended line.\\n')\n",
    "print('Appended')"
   ]
  },
  {
   "cell_type": "markdown",
   "id": "6c4cc105",
   "metadata": {},
   "source": [
    "### Q11. Write a Python program that uses a try-except block to handle an error when attempting to access a dictionary key that doesn't exist\n",
    "\n"
   ]
  },
  {
   "cell_type": "code",
   "execution_count": 51,
   "id": "0ff99804",
   "metadata": {},
   "outputs": [
    {
     "name": "stdout",
     "output_type": "stream",
     "text": [
      "Key b not found, handling gracefully\n",
      "default\n"
     ]
    }
   ],
   "source": [
    "d = {'a': 1}\n",
    "try:\n",
    "    print(d['b'])\n",
    "except KeyError:\n",
    "    print('Key b not found, handling gracefully')\n",
    "    print(d.get('b', 'default'))"
   ]
  },
  {
   "cell_type": "markdown",
   "id": "3953d5b8",
   "metadata": {},
   "source": [
    "### Q12. Write a program that demonstrates using multiple except blocks to handle different types of exceptions\n",
    "\n"
   ]
  },
  {
   "cell_type": "code",
   "execution_count": 54,
   "id": "3c7670d7",
   "metadata": {},
   "outputs": [
    {
     "name": "stdout",
     "output_type": "stream",
     "text": [
      "IndexError caught\n"
     ]
    }
   ],
   "source": [
    "try:\n",
    "    vals = [1, 2]\n",
    "    x = vals[5]\n",
    "    y = 1 / 0\n",
    "except IndexError:\n",
    "    print('IndexError caught')\n",
    "except ZeroDivisionError:\n",
    "    print('ZeroDivisionError caught')\n",
    "except Exception as e:\n",
    "    print('Other exception:', e)"
   ]
  },
  {
   "cell_type": "markdown",
   "id": "b666ba04",
   "metadata": {},
   "source": [
    "### Q13. How would you check if a file exists before attempting to read it in Python\n",
    "\n"
   ]
  },
  {
   "cell_type": "code",
   "execution_count": 57,
   "id": "4e23a380",
   "metadata": {},
   "outputs": [
    {
     "name": "stdout",
     "output_type": "stream",
     "text": [
      "Hello, this is a sample string.\n",
      "Line2Appended line.\n",
      "\n"
     ]
    }
   ],
   "source": [
    "import os\n",
    "fname = 'output.txt'\n",
    "if os.path.exists(fname) and os.path.isfile(fname):\n",
    "    with open(fname, 'r') as f:\n",
    "        print(f.read())\n",
    "else:\n",
    "    print('File does not exist')"
   ]
  },
  {
   "cell_type": "markdown",
   "id": "c17f5609",
   "metadata": {},
   "source": [
    "### Q14. Write a program that uses the logging module to log both informational and error messages\n",
    "\n"
   ]
  },
  {
   "cell_type": "code",
   "execution_count": 99,
   "id": "bd078b5c",
   "metadata": {},
   "outputs": [
    {
     "name": "stdout",
     "output_type": "stream",
     "text": [
      "Wrote to app.log\n"
     ]
    }
   ],
   "source": [
    "import logging\n",
    "logging.basicConfig(filename='app.log', level=logging.INFO, format='%(asctime)s %(levelname)s:%(message)s')\n",
    "logging.info('This is an info message')\n",
    "try:\n",
    "    1/0\n",
    "except ZeroDivisionError as e:\n",
    "    logging.error('Error occurred: %s', e)\n",
    "print('Wrote to app.log')"
   ]
  },
  {
   "cell_type": "markdown",
   "id": "6a36fa1c",
   "metadata": {},
   "source": [
    "### Q15. Write a Python program that prints the content of a file and handles the case when the file is empty\n",
    "\n"
   ]
  },
  {
   "cell_type": "code",
   "execution_count": 69,
   "id": "44080a53",
   "metadata": {},
   "outputs": [
    {
     "name": "stdout",
     "output_type": "stream",
     "text": [
      "Helloooohiiiiiiii\n"
     ]
    }
   ],
   "source": [
    "fname = 'titu.txt'\n",
    "with open(fname, 'r') as f:\n",
    "    content = f.read()\n",
    "    if not content:\n",
    "        print('File is empty')\n",
    "    else:\n",
    "        print(content)"
   ]
  },
  {
   "cell_type": "markdown",
   "id": "0e72927d",
   "metadata": {},
   "source": [
    "### Q16. Demonstrate how to use memory profiling to check the memory usage of a small program\n",
    "\n"
   ]
  },
  {
   "cell_type": "code",
   "execution_count": 72,
   "id": "caaed041",
   "metadata": {},
   "outputs": [
    {
     "name": "stdout",
     "output_type": "stream",
     "text": [
      "Current: 3900.16 KB, Peak: 3918.24 KB\n"
     ]
    }
   ],
   "source": [
    "import tracemalloc\n",
    "\n",
    "def make_list(n):\n",
    "    return [i for i in range(n)]\n",
    "\n",
    "tracemalloc.start()\n",
    "_make = make_list(100000)\n",
    "current, peak = tracemalloc.get_traced_memory()\n",
    "print(f'Current: {current/1024:.2f} KB, Peak: {peak/1024:.2f} KB')\n",
    "tracemalloc.stop()"
   ]
  },
  {
   "cell_type": "markdown",
   "id": "05e514f6",
   "metadata": {},
   "source": [
    "### Q17. Write a Python program to create and write a list of numbers to a file, one number per line\n",
    "\n"
   ]
  },
  {
   "cell_type": "code",
   "execution_count": 75,
   "id": "81001320",
   "metadata": {},
   "outputs": [
    {
     "name": "stdout",
     "output_type": "stream",
     "text": [
      "Wrote numbers.txt\n"
     ]
    }
   ],
   "source": [
    "nums = list(range(1, 11))\n",
    "with open('numbers.txt', 'w') as f:\n",
    "    for n in nums:\n",
    "        f.write(str(n) + '\\n')\n",
    "print('Wrote numbers.txt')"
   ]
  },
  {
   "cell_type": "markdown",
   "id": "527a7a94",
   "metadata": {},
   "source": [
    "### Q18. How would you implement a basic logging setup that logs to a file with rotation after 1MB\n",
    "\n"
   ]
  },
  {
   "cell_type": "code",
   "execution_count": 78,
   "id": "5de935b7",
   "metadata": {},
   "outputs": [
    {
     "name": "stdout",
     "output_type": "stream",
     "text": [
      "Rotating log written to rot.log\n"
     ]
    }
   ],
   "source": [
    "import logging\n",
    "from logging.handlers import RotatingFileHandler\n",
    "handler = RotatingFileHandler('rot.log', maxBytes=1_000_000, backupCount=3)\n",
    "fmt = logging.Formatter('%(asctime)s %(levelname)s:%(message)s')\n",
    "handler.setFormatter(fmt)\n",
    "logger = logging.getLogger('rot')\n",
    "logger.setLevel(logging.INFO)\n",
    "logger.addHandler(handler)\n",
    "\n",
    "for i in range(10000):\n",
    "    logger.info('Log line %d', i)\n",
    "print('Rotating log written to rot.log')"
   ]
  },
  {
   "cell_type": "markdown",
   "id": "b784112d",
   "metadata": {},
   "source": [
    "### Q19. Write a program that handles both IndexError and KeyError using a try-except block\n",
    "\n"
   ]
  },
  {
   "cell_type": "code",
   "execution_count": 81,
   "id": "9c823477",
   "metadata": {},
   "outputs": [
    {
     "name": "stdout",
     "output_type": "stream",
     "text": [
      "Handled IndexError\n"
     ]
    }
   ],
   "source": [
    "try:\n",
    "    lst = [1]\n",
    "    print(lst[5])\n",
    "    d = {}\n",
    "    print(d['x'])\n",
    "except IndexError:\n",
    "    print('Handled IndexError')\n",
    "except KeyError:\n",
    "    print('Handled KeyError')"
   ]
  },
  {
   "cell_type": "markdown",
   "id": "0d96e5be",
   "metadata": {},
   "source": [
    "### Q20. How would you open a file and read its contents using a context manager in Python\n",
    "\n"
   ]
  },
  {
   "cell_type": "code",
   "execution_count": 84,
   "id": "1b07aa60",
   "metadata": {},
   "outputs": [
    {
     "name": "stdout",
     "output_type": "stream",
     "text": [
      "Hello, this is a sample string.\n",
      "Line2Appended line.\n",
      "\n"
     ]
    }
   ],
   "source": [
    "with open('output.txt', 'r') as f:\n",
    "    data = f.read()\n",
    "print(data)"
   ]
  },
  {
   "cell_type": "markdown",
   "id": "6fb5014d",
   "metadata": {},
   "source": [
    "### Q21. Write a Python program that reads a file and prints the number of occurrences of a specific word\n",
    "\n"
   ]
  },
  {
   "cell_type": "code",
   "execution_count": 87,
   "id": "974f6c8d",
   "metadata": {},
   "outputs": [
    {
     "name": "stdout",
     "output_type": "stream",
     "text": [
      "'the' occurs 0 times\n"
     ]
    }
   ],
   "source": [
    "from collections import Counter\n",
    "word = 'the'\n",
    "with open('output.txt', 'r') as f:\n",
    "    text = f.read().lower()\n",
    "words = text.split()\n",
    "count = Counter(words)[word]\n",
    "print(f\"'{word}' occurs {count} times\")"
   ]
  },
  {
   "cell_type": "markdown",
   "id": "921df93a",
   "metadata": {},
   "source": [
    "### Q22. How can you check if a file is empty before attempting to read its contents\n",
    "\n"
   ]
  },
  {
   "cell_type": "code",
   "execution_count": 92,
   "id": "57b0fbf6",
   "metadata": {},
   "outputs": [
    {
     "name": "stdout",
     "output_type": "stream",
     "text": [
      "Helloooohiiiiiiii\n"
     ]
    }
   ],
   "source": [
    "import os\n",
    "fname = 'titu.txt'\n",
    "if os.path.getsize(fname) == 0:\n",
    "    print('File is empty')\n",
    "else:\n",
    "    with open(fname, 'r') as f:\n",
    "        print(f.read())"
   ]
  },
  {
   "cell_type": "markdown",
   "id": "7e295cbf",
   "metadata": {},
   "source": [
    "### Q23. Write a Python program that writes to a log file when an error occurs during file handling.\n",
    "\n"
   ]
  },
  {
   "cell_type": "code",
   "execution_count": 95,
   "id": "87c72a39",
   "metadata": {},
   "outputs": [
    {
     "name": "stdout",
     "output_type": "stream",
     "text": [
      "Logged file handling error\n"
     ]
    }
   ],
   "source": [
    "import logging\n",
    "logging.basicConfig(filename='file_errors.log', level=logging.ERROR, format='%(asctime)s %(levelname)s:%(message)s')\n",
    "try:\n",
    "    with open('protected.txt', 'r') as f:\n",
    "        print(f.read())\n",
    "except Exception as e:\n",
    "    logging.error('File handling error: %s', e)\n",
    "    print('Logged file handling error')"
   ]
  }
 ],
 "metadata": {
  "kernelspec": {
   "display_name": "Python [conda env:base] *",
   "language": "python",
   "name": "conda-base-py"
  },
  "language_info": {
   "codemirror_mode": {
    "name": "ipython",
    "version": 3
   },
   "file_extension": ".py",
   "mimetype": "text/x-python",
   "name": "python",
   "nbconvert_exporter": "python",
   "pygments_lexer": "ipython3",
   "version": "3.12.7"
  }
 },
 "nbformat": 4,
 "nbformat_minor": 5
}
